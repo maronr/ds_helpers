{
 "cells": [
  {
   "cell_type": "code",
   "execution_count": null,
   "metadata": {},
   "outputs": [],
   "source": [
    "# default_exp training.balance"
   ]
  },
  {
   "cell_type": "markdown",
   "metadata": {},
   "source": [
    "# Balance training data\n",
    "\n",
    "> Various methods to balance training data by target class (label) for model training"
   ]
  },
  {
   "cell_type": "code",
   "execution_count": null,
   "metadata": {},
   "outputs": [],
   "source": [
    "# hide\n",
    "from nbdev.showdoc import *\n",
    "from fastcore.test import *\n",
    "import dev_tools as dt"
   ]
  },
  {
   "cell_type": "code",
   "execution_count": null,
   "metadata": {},
   "outputs": [],
   "source": [
    "# export \n",
    "import pandas as pd\n",
    "import numpy as np"
   ]
  },
  {
   "cell_type": "markdown",
   "metadata": {},
   "source": [
    "## Downsample "
   ]
  },
  {
   "cell_type": "code",
   "execution_count": null,
   "metadata": {},
   "outputs": [],
   "source": [
    "# export\n",
    "def downsample(df:pd.DataFrame, y_column:str, random_state:int, min_size:int=None, **kwargs) -> pd.DataFrame:\n",
    "    '''Balance classes of the target variable by downsampling all classes to be equal to or smaller than \"min_size\".\n",
    "    \n",
    "    Classes smaller than \"min_size\" are not affected and will remain at their current size. If \"min_size\" is ommitted, \n",
    "    the size of the smallest current class is taken as \"min_size\".\n",
    "    \n",
    "    Paramters\n",
    "    \n",
    "    df : pandas dataframe\n",
    "         Dataframe containing column \"y_column\".\n",
    "            \n",
    "    y_column : str\n",
    "               Name of df column containing the target variable (label).\n",
    "    \n",
    "    ranomd_state : int\n",
    "                   Random state for reproducibility. \n",
    "    \n",
    "    min_size : int, default=None\n",
    "               If no value is supplied, min_size will be set to the size of the smallest current class. \n",
    "    \n",
    "    Returns\n",
    "    \n",
    "    new_df : pandas dataframe\n",
    "             Has the same structure as the input dataframe but classes were balanced by downsampling.\n",
    "    \n",
    "    '''\n",
    "    df_new = df.copy()\n",
    "    \n",
    "    # get smallest current class if not supplied\n",
    "    if min_size == None:\n",
    "        min_size = df_new[y_column].value_counts().min()\n",
    "    \n",
    "    # downsample all classes larger than min_size\n",
    "    for class_index, group in df_new.groupby(y_column):\n",
    "        if group.shape[0] > min_size:\n",
    "            drop_idx = group.sample(len(group)-min_size, random_state=random_state, **kwargs).index\n",
    "            df_new = df_new.drop(drop_idx)\n",
    "            \n",
    "    return df_new.reset_index(drop=True)"
   ]
  },
  {
   "cell_type": "code",
   "execution_count": null,
   "metadata": {},
   "outputs": [
    {
     "data": {
      "text/html": [
       "<div>\n",
       "<style scoped>\n",
       "    .dataframe tbody tr th:only-of-type {\n",
       "        vertical-align: middle;\n",
       "    }\n",
       "\n",
       "    .dataframe tbody tr th {\n",
       "        vertical-align: top;\n",
       "    }\n",
       "\n",
       "    .dataframe thead th {\n",
       "        text-align: right;\n",
       "    }\n",
       "</style>\n",
       "<table border=\"1\" class=\"dataframe\">\n",
       "  <thead>\n",
       "    <tr style=\"text-align: right;\">\n",
       "      <th></th>\n",
       "      <th>y</th>\n",
       "    </tr>\n",
       "    <tr>\n",
       "      <th>x</th>\n",
       "      <th></th>\n",
       "    </tr>\n",
       "  </thead>\n",
       "  <tbody>\n",
       "    <tr>\n",
       "      <th>A</th>\n",
       "      <td>1</td>\n",
       "    </tr>\n",
       "    <tr>\n",
       "      <th>B</th>\n",
       "      <td>2</td>\n",
       "    </tr>\n",
       "    <tr>\n",
       "      <th>C</th>\n",
       "      <td>3</td>\n",
       "    </tr>\n",
       "  </tbody>\n",
       "</table>\n",
       "</div>"
      ],
      "text/plain": [
       "   y\n",
       "x   \n",
       "A  1\n",
       "B  2\n",
       "C  3"
      ]
     },
     "execution_count": null,
     "metadata": {},
     "output_type": "execute_result"
    }
   ],
   "source": [
    "df = pd.DataFrame({\"x\": [\"A\", \"B\", \"B\", \"C\", \"C\", \"C\"], \"y\": [0, 1, 1, 2, 2, 2]})\n",
    "df.groupby(\"x\").count()"
   ]
  },
  {
   "cell_type": "code",
   "execution_count": null,
   "metadata": {},
   "outputs": [
    {
     "data": {
      "text/html": [
       "<div>\n",
       "<style scoped>\n",
       "    .dataframe tbody tr th:only-of-type {\n",
       "        vertical-align: middle;\n",
       "    }\n",
       "\n",
       "    .dataframe tbody tr th {\n",
       "        vertical-align: top;\n",
       "    }\n",
       "\n",
       "    .dataframe thead th {\n",
       "        text-align: right;\n",
       "    }\n",
       "</style>\n",
       "<table border=\"1\" class=\"dataframe\">\n",
       "  <thead>\n",
       "    <tr style=\"text-align: right;\">\n",
       "      <th></th>\n",
       "      <th>y</th>\n",
       "    </tr>\n",
       "    <tr>\n",
       "      <th>x</th>\n",
       "      <th></th>\n",
       "    </tr>\n",
       "  </thead>\n",
       "  <tbody>\n",
       "    <tr>\n",
       "      <th>A</th>\n",
       "      <td>1</td>\n",
       "    </tr>\n",
       "    <tr>\n",
       "      <th>B</th>\n",
       "      <td>1</td>\n",
       "    </tr>\n",
       "    <tr>\n",
       "      <th>C</th>\n",
       "      <td>1</td>\n",
       "    </tr>\n",
       "  </tbody>\n",
       "</table>\n",
       "</div>"
      ],
      "text/plain": [
       "   y\n",
       "x   \n",
       "A  1\n",
       "B  1\n",
       "C  1"
      ]
     },
     "execution_count": null,
     "metadata": {},
     "output_type": "execute_result"
    }
   ],
   "source": [
    "new_df = downsample(df=df, y_column=\"y\", random_state=dt.random_state)\n",
    "new_df.groupby(\"x\").count()"
   ]
  },
  {
   "cell_type": "code",
   "execution_count": null,
   "metadata": {},
   "outputs": [],
   "source": [
    "# hide\n",
    "\n",
    "# downsample unit tests\n",
    "# test 0 \n",
    "new_df = downsample(df=df, y_column=\"y\", random_state=dt.random_state, min_size=0).groupby(\"x\").count()\n",
    "test_eq(list(new_df.y), [])\n",
    "\n",
    "# test complete downsample \n",
    "new_df = downsample(df=df, y_column=\"y\", random_state=dt.random_state).groupby(\"x\").count()\n",
    "test_eq(list(new_df.y), [1, 1, 1])\n",
    "\n",
    "# test partial downsample\n",
    "new_df = downsample(df=df, y_column=\"y\", random_state=dt.random_state, min_size=2).groupby(\"x\").count()\n",
    "test_eq(list(new_df.y), [1, 2, 2])\n",
    "\n",
    "# test none downsample\n",
    "new_df = downsample(df=df, y_column=\"y\", random_state=dt.random_state, min_size=3).groupby(\"x\").count()\n",
    "test_eq(list(new_df.y), [1, 2, 3])\n",
    "\n",
    "# test too large\n",
    "new_df = downsample(df=df, y_column=\"y\", random_state=dt.random_state, min_size=4).groupby(\"x\").count()\n",
    "test_eq(list(new_df.y), [1, 2, 3])"
   ]
  },
  {
   "cell_type": "code",
   "execution_count": null,
   "metadata": {},
   "outputs": [],
   "source": []
  }
 ],
 "metadata": {
  "kernelspec": {
   "display_name": "Python 3",
   "language": "python",
   "name": "python3"
  }
 },
 "nbformat": 4,
 "nbformat_minor": 4
}
